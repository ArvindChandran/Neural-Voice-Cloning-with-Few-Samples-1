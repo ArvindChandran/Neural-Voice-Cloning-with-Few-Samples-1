{
 "cells": [
  {
   "cell_type": "code",
   "execution_count": 4,
   "metadata": {
    "collapsed": true
   },
   "outputs": [],
   "source": [
    "import sys\n",
    "import numpy as np\n",
    "import torch\n",
    "import torch.nn as nn\n",
    "from torch.autograd import Variable\n",
    "import librosa\n",
    "import torch.nn.functional as F\n",
    "import SpeechEmbedding\n",
    "from SpeechEmbedding import Encoder as e\n",
    "#from deepvoice3_pytorch.train import build_model\n"
   ]
  },
  {
   "cell_type": "code",
   "execution_count": 7,
   "metadata": {},
   "outputs": [],
   "source": [
    "l = np.random.rand(80,100,1,1)\n",
    "m = np.random.rand(80,100,1,1)\n",
    "k = np.hstack((l,m))\n",
    "\n",
    "a = k[1]\n",
    "a = np.vstack((a,k[1]))\n",
    "a.shape\n",
    "\n",
    "e = Encoder()"
   ]
  },
  {
   "cell_type": "code",
   "execution_count": 8,
   "metadata": {},
   "outputs": [],
   "source": [
    "l_func = nn.MSELoss()\n",
    "optimizer = torch.optim.SGD(e.parameters(),lr=0.002)"
   ]
  },
  {
   "cell_type": "code",
   "execution_count": 9,
   "metadata": {
    "collapsed": true
   },
   "outputs": [],
   "source": [
    "epochs = 5"
   ]
  },
  {
   "cell_type": "code",
   "execution_count": 10,
   "metadata": {
    "collapsed": true
   },
   "outputs": [],
   "source": [
    "while(epochs > 0):\n",
    "    #have to take the dataset input here\n",
    "    \n",
    "    \n",
    "    t_i = Variable(torch.randn(25,20,100,80))\n",
    "    t_o = e(t_i)\n",
    "    optimizer.zero_grad()\n",
    "    #use pretrained deep-voice 3 model embeddings to train this encoder\n",
    "    \n",
    "    rand_embed = Variable(torch.randn(25,512))\n",
    "    \n",
    "    loss = l_func(t_o,rand_embed)\n",
    "    \n",
    "    loss.backward()\n",
    "    \n",
    "    optimizer.step()\n",
    "    epochs -= 1\n",
    "    "
   ]
  },
  {
   "cell_type": "code",
   "execution_count": null,
   "metadata": {
    "collapsed": true
   },
   "outputs": [],
   "source": []
  }
 ],
 "metadata": {
  "kernelspec": {
   "display_name": "Python 3",
   "language": "python",
   "name": "python3"
  },
  "language_info": {
   "codemirror_mode": {
    "name": "ipython",
    "version": 3
   },
   "file_extension": ".py",
   "mimetype": "text/x-python",
   "name": "python",
   "nbconvert_exporter": "python",
   "pygments_lexer": "ipython3",
   "version": "3.5.2"
  }
 },
 "nbformat": 4,
 "nbformat_minor": 2
}
