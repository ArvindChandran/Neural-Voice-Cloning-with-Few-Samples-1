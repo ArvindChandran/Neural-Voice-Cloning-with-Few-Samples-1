{
 "cells": [
  {
   "cell_type": "code",
   "execution_count": 7,
   "metadata": {},
   "outputs": [],
   "source": [
    "import sys\n",
    "import numpy\n",
    "import torch\n",
    "import torch.nn as nn\n",
    "from torch.autograd import Variable\n",
    "import librosa\n",
    "import torch.nn.functional as F\n",
    "import SpeechEmbedding\n",
    "from SpeechEmbedding import Encoder\n",
    "#from deepvoice3_pytorch.train import build_model\n"
   ]
  },
  {
   "cell_type": "code",
   "execution_count": 8,
   "metadata": {},
   "outputs": [
    {
     "data": {
      "text/plain": [
       "Variable containing:\n",
       "-1.5512e-01 -1.4178e-01 -3.7734e-02  ...  -1.1270e-02  9.3070e-02 -5.9176e-01\n",
       "-1.8139e-02 -6.1193e-02 -1.8298e-02  ...   3.1652e-02  1.8801e-02 -5.1158e-02\n",
       "-1.1300e-01 -7.6407e-02 -1.0708e-01  ...  -1.2817e-01  1.8947e-02 -2.6794e-01\n",
       "                ...                   ⋱                   ...                \n",
       "-9.7872e-02 -1.1839e-01  1.2830e-02  ...  -3.5928e-02  8.4483e-02 -2.3560e-01\n",
       "-2.2942e-01 -7.7856e-02 -2.4515e-02  ...  -7.8193e-02  1.0181e-01 -3.5082e-01\n",
       "-6.1342e-03 -7.3276e-02 -1.5343e-02  ...  -1.0640e-01 -2.4377e-02 -5.1859e-03\n",
       "[torch.FloatTensor of size 25x512]"
      ]
     },
     "execution_count": 8,
     "metadata": {},
     "output_type": "execute_result"
    }
   ],
   "source": []
  },
  {
   "cell_type": "code",
   "execution_count": 9,
   "metadata": {
    "collapsed": true
   },
   "outputs": [],
   "source": [
    "l_func = nn.MSELoss()\n",
    "optimizer = torch.optim.SGD(e.parameters(),lr=0.002)"
   ]
  },
  {
   "cell_type": "code",
   "execution_count": 10,
   "metadata": {
    "collapsed": true
   },
   "outputs": [],
   "source": [
    "epochs = 5"
   ]
  },
  {
   "cell_type": "code",
   "execution_count": 12,
   "metadata": {},
   "outputs": [],
   "source": [
    "while(epochs > 0):\n",
    "    #have to take the dataset input here\n",
    "    \n",
    "    \n",
    "    t_i = Variable(torch.randn(25,20,100,80))\n",
    "    t_o = e(t_i)\n",
    "    optimizer.zero_grad()\n",
    "    #use pretrained deep-voice 3 model embeddings to train this encoder\n",
    "    \n",
    "    rand_embed = Variable(torch.randn(25,512))\n",
    "    \n",
    "    loss = l_func(t_o,rand_embed)\n",
    "    \n",
    "    loss.backward()\n",
    "    \n",
    "    optimizer.step()\n",
    "    epochs -= 1\n",
    "    "
   ]
  },
  {
   "cell_type": "code",
   "execution_count": null,
   "metadata": {
    "collapsed": true
   },
   "outputs": [],
   "source": []
  }
 ],
 "metadata": {
  "kernelspec": {
   "display_name": "Python 3",
   "language": "python",
   "name": "python3"
  }
 },
 "nbformat": 4,
 "nbformat_minor": 2
}
