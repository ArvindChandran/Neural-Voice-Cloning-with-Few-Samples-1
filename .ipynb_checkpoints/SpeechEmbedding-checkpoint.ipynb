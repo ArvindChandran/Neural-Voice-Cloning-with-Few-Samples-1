{
 "cells": [
  {
   "cell_type": "code",
   "execution_count": 38,
   "metadata": {
    "collapsed": true
   },
   "outputs": [],
   "source": [
    "import sys\n",
    "import torch\n",
    "import torch.nn as nn\n",
    "from torch.autograd import Variable\n",
    "import librosa\n",
    "import torch.nn.functional as F\n",
    "import Modules.SpectralProcessing\n",
    "from Modules.SpectralProcessing import *\n",
    "import Modules.Conv1dGLU\n",
    "from  Modules.Conv1dGLU import Conv1dGLU\n",
    "import Modules.Encoder\n",
    "from Modules.Encoder import *"
   ]
  },
  {
   "cell_type": "code",
   "execution_count": 54,
   "metadata": {
    "collapsed": true
   },
   "outputs": [],
   "source": [
    "batch_size = 25\n",
    "N_samples = 20"
   ]
  },
  {
   "cell_type": "code",
   "execution_count": 55,
   "metadata": {
    "collapsed": true
   },
   "outputs": [],
   "source": [
    "class Encoder(nn.Module):\n",
    "    global batch_size\n",
    "    global N_samples\n",
    "    def __init__(self):\n",
    "        super(Encoder, self).__init__()\n",
    "        self.prenet = PreNet()\n",
    "        self.conv = Conv1dGLU()\n",
    "        self.attention = Attention(128)\n",
    "        self.prohead = nn.Linear(128,1)\n",
    "        self.residual_conv = nn.Linear(128,512)\n",
    "        self.bn = nn.BatchNorm1d(N_samples)\n",
    "        \n",
    "    def forward(self, x):\n",
    "        x = self.prenet(x)\n",
    "        x = x.view(batch_size*N_samples, x.size(2), x.size(3)).transpose(1,2)\n",
    "        x = self.conv(x)\n",
    "        x = x.transpose(1,2)\n",
    "        x.contiguous()\n",
    "        x = x.view(batch_size,N_samples,x.size(1),x.size(2))\n",
    "        #x = librosa.decompose.hpss(x)[0]\n",
    "        x = x.mean(dim=2)\n",
    "        conv_out = x\n",
    "        conv_out = self.residual_conv(conv_out)\n",
    "        x = self.attention(x)\n",
    "        x = self.prohead(x)\n",
    "        x = x.squeeze()\n",
    "        x = F.softsign(x)\n",
    "        x = self.bn(x)\n",
    "        x = x.unsqueeze(dim=2)\n",
    "        x = torch.bmm(x.transpose(1,2), conv_out)\n",
    "        x = x.squeeze()\n",
    "        return x"
   ]
  },
  {
   "cell_type": "code",
   "execution_count": 56,
   "metadata": {
    "collapsed": true
   },
   "outputs": [],
   "source": [
    "enc = Encoder()"
   ]
  },
  {
   "cell_type": "code",
   "execution_count": 57,
   "metadata": {
    "collapsed": true
   },
   "outputs": [],
   "source": [
    "z = torch.randn(25,20,100,80)"
   ]
  },
  {
   "cell_type": "code",
   "execution_count": 58,
   "metadata": {},
   "outputs": [
    {
     "data": {
      "text/plain": [
       "Variable containing:\n",
       "-1.8936e-02 -1.3330e-01 -6.4367e-02  ...  -2.8870e-02  1.0749e-03  3.0665e-01\n",
       "-1.9577e-02  2.1781e-02 -1.3869e-02  ...   1.4258e-02 -8.2355e-02 -4.2823e-02\n",
       "-1.0458e-01 -9.1746e-02 -8.4444e-02  ...   4.2366e-02  3.6601e-02  1.9605e-01\n",
       "                ...                   ⋱                   ...                \n",
       "-2.7616e-01 -2.4899e-01 -2.4043e-01  ...  -1.2823e-01  9.5645e-02  5.5507e-01\n",
       "-1.5725e-01 -6.6050e-02 -4.1179e-02  ...  -8.8218e-02  7.5976e-02  1.6313e-01\n",
       " 2.2811e-01  2.6991e-01  3.1550e-02  ...   1.3812e-01 -8.9244e-02 -3.4574e-01\n",
       "[torch.FloatTensor of size 25x512]"
      ]
     },
     "execution_count": 58,
     "metadata": {},
     "output_type": "execute_result"
    }
   ],
   "source": [
    "out = enc(Variable(z))\n",
    "out"
   ]
  },
  {
   "cell_type": "code",
   "execution_count": 63,
   "metadata": {
    "collapsed": true
   },
   "outputs": [],
   "source": [
    "#def Temp_Masking(x):\n",
    "#Create function for temporal masking. Use librosa.decompose.hpss. Split and concatinate dimensions to make it 2D."
   ]
  }
 ],
 "metadata": {
  "kernelspec": {
   "display_name": "Python 3",
   "language": "python",
   "name": "python3"
  },
  "language_info": {
   "codemirror_mode": {
    "name": "ipython",
    "version": 3
   },
   "file_extension": ".py",
   "mimetype": "text/x-python",
   "name": "python",
   "nbconvert_exporter": "python",
   "pygments_lexer": "ipython3",
   "version": "3.6.1"
  }
 },
 "nbformat": 4,
 "nbformat_minor": 2
}
