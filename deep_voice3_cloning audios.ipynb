{
 "cells": [
  {
   "cell_type": "code",
   "execution_count": 3,
   "metadata": {},
   "outputs": [
    {
     "name": "stdout",
     "output_type": "stream",
     "text": [
      "Exists!\n"
     ]
    }
   ],
   "source": [
    "import os\n",
    "from os.path import exists, join, expanduser\n",
    "\n",
    "# Clone\n",
    "name = \"deepvoice3_pytorch\"\n",
    "if not exists(name):\n",
    "  ! git clone https://github.com/r9y9/$name\n",
    "else:\n",
    "    print(\"Exists!\")"
   ]
  },
  {
   "cell_type": "code",
   "execution_count": 6,
   "metadata": {},
   "outputs": [],
   "source": [
    "# Change working directory to the project dir \n",
    "os.chdir(join(expanduser(\".\"), name))\n",
    "\n",
    "# Install dependencices\n",
    "# !pip install -q -e '.[train]'"
   ]
  },
  {
   "cell_type": "code",
   "execution_count": 7,
   "metadata": {},
   "outputs": [
    {
     "name": "stdout",
     "output_type": "stream",
     "text": [
      "/usr/bin/python: No module named nltk\r\n"
     ]
    }
   ],
   "source": [
    "import torch\n",
    "import numpy as np\n",
    "import librosa\n",
    "import librosa.display\n",
    "import IPython\n",
    "from IPython.display import Audio\n",
    "# need this for English text processing frontend\n",
    "import nltk\n",
    "! python -m nltk.downloader cmudict"
   ]
  },
  {
   "cell_type": "code",
   "execution_count": null,
   "metadata": {
    "collapsed": true
   },
   "outputs": [],
   "source": []
  }
 ],
 "metadata": {
  "kernelspec": {
   "display_name": "Python 3",
   "language": "python",
   "name": "python3"
  },
  "language_info": {
   "codemirror_mode": {
    "name": "ipython",
    "version": 3
   },
   "file_extension": ".py",
   "mimetype": "text/x-python",
   "name": "python",
   "nbconvert_exporter": "python",
   "pygments_lexer": "ipython3",
   "version": "3.5.2"
  }
 },
 "nbformat": 4,
 "nbformat_minor": 2
}
